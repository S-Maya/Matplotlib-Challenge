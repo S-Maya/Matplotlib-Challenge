{
 "cells": [
  {
   "cell_type": "code",
   "execution_count": 3,
   "metadata": {},
   "outputs": [
    {
     "ename": "ModuleNotFoundError",
     "evalue": "No module named 'scipy'",
     "output_type": "error",
     "traceback": [
      "\u001b[0;31m---------------------------------------------------------------------------\u001b[0m",
      "\u001b[0;31mModuleNotFoundError\u001b[0m                       Traceback (most recent call last)",
      "\u001b[0;32m<ipython-input-3-079ed03ac866>\u001b[0m in \u001b[0;36m<module>\u001b[0;34m\u001b[0m\n\u001b[1;32m      3\u001b[0m \u001b[0;32mimport\u001b[0m \u001b[0mos\u001b[0m\u001b[0;34m\u001b[0m\u001b[0;34m\u001b[0m\u001b[0m\n\u001b[1;32m      4\u001b[0m \u001b[0;32mimport\u001b[0m \u001b[0mnumpy\u001b[0m \u001b[0;32mas\u001b[0m \u001b[0mnp\u001b[0m\u001b[0;34m\u001b[0m\u001b[0;34m\u001b[0m\u001b[0m\n\u001b[0;32m----> 5\u001b[0;31m \u001b[0;32mimport\u001b[0m \u001b[0mscipy\u001b[0m\u001b[0;34m\u001b[0m\u001b[0;34m\u001b[0m\u001b[0m\n\u001b[0m",
      "\u001b[0;31mModuleNotFoundError\u001b[0m: No module named 'scipy'"
     ]
    }
   ],
   "source": [
    "import matplotlib.pyplot as plt\n",
    "import pandas as pd\n",
    "import os\n",
    "import numpy as np \n",
    "from scipy.stats import sem"
   ]
  },
  {
   "cell_type": "code",
   "execution_count": null,
   "metadata": {},
   "outputs": [],
   "source": [
    "import warnings\n",
    "warnings.filterwarnings('ignore')"
   ]
  },
  {
   "cell_type": "code",
   "execution_count": null,
   "metadata": {},
   "outputs": [],
   "source": [
    "mouse_df = os.path.join(\"data\",\"mouse_drug_data.csv\")\n",
    "clinical_df = os.path.join(\"data\",\"clinicaltrial_data.csv\")"
   ]
  },
  {
   "cell_type": "code",
   "execution_count": null,
   "metadata": {},
   "outputs": [],
   "source": [
    "df1 = pd.read_csv(mouse_df)\n",
    "df2 = pd.read_csv(clinical_df)"
   ]
  },
  {
   "cell_type": "code",
   "execution_count": null,
   "metadata": {},
   "outputs": [],
   "source": [
    "df1"
   ]
  },
  {
   "cell_type": "code",
   "execution_count": null,
   "metadata": {},
   "outputs": [],
   "source": [
    "df2"
   ]
  },
  {
   "cell_type": "code",
   "execution_count": null,
   "metadata": {},
   "outputs": [],
   "source": [
    "df = pd.merge(df1,df2,on=\"Mouse ID\",how=\"left\")"
   ]
  },
  {
   "cell_type": "code",
   "execution_count": null,
   "metadata": {},
   "outputs": [],
   "source": []
  },
  {
   "cell_type": "code",
   "execution_count": null,
   "metadata": {},
   "outputs": [],
   "source": [
    "df_grouped = df.groupby([\"Drug\",\"Timepoint\"])[\"Tumor Volume (mm3)\"]\n",
    "avrage_tumor = df_grouped.mean()\n",
    "avrage_tumor = avrage_tumor .reset_index()\n",
    "avrage_tumor.head()"
   ]
  },
  {
   "cell_type": "code",
   "execution_count": null,
   "metadata": {},
   "outputs": [],
   "source": [
    "standard_error = df_grouped.sem()\n",
    "standard_error_df = pd.DataFrame(standard_error)\n",
    "standard_error_df.reset_index(inplace = True)\n",
    "standard_error_df.head()"
   ]
  },
  {
   "cell_type": "code",
   "execution_count": null,
   "metadata": {},
   "outputs": [],
   "source": [
    "pivot_avrage_tumor = avrage_tumor.pivot(index = \"Timepoint\", columns = \"Drug\", values = \"Tumor Volume (mm3)\")\n",
    "pivot_avrage_tumor.head()"
   ]
  },
  {
   "cell_type": "code",
   "execution_count": null,
   "metadata": {},
   "outputs": [],
   "source": [
    "cleaned_pivot_avrage_tumor = pivot_avrage_tumor.drop([\n",
    "    \"Ceftamin\",\n",
    "    \"Naftisol\",\n",
    "    \"Propriva\",\n",
    "    \"Ramicane\",\n",
    "    \"Stelasyn\",\n",
    "    \"Zoniferol\"],\n",
    "    axis = 1)\n",
    "cleaned_pivot_avrage_tumor"
   ]
  },
  {
   "cell_type": "code",
   "execution_count": null,
   "metadata": {},
   "outputs": [],
   "source": [
    "drugs = [\"Capomulin\",\"Infubinol\",\"Ketapril\",\"Placebo\"]\n",
    "colors =[\"red\",\"blue\",\"green\",\"black\"]\n",
    "markers =[\"o\",\"^\",\"s\",\"d\"]\n",
    "fig ,ax = plt.subplots()\n",
    "for drug in drugs:\n",
    "    x_axis = pivot_avrage_tumor.index.values\n",
    "    y_axis = pivot_avrage_tumor[drug]\n",
    "    err = sem(cleaned_pivot_avrage_tumor[drug])\n",
    "    index = drugs.index(drug)\n",
    "    ax.errorbar(x_axis,y_axis,err,linestyle = \"--\",\n",
    "                color = colors[index],\n",
    "                marker = markers[index],\n",
    "                capsize = 2.5,capthick = 1.5,\n",
    "                markeredgecolor = \"black\")\n",
    "    ax.legend(loc = \"best\",labels = drugs,fancybox = True,fontsize = 13)\n",
    "plt.grid(linestyle = \"dotted\")\n",
    "ax.set_xlim(0,45)\n",
    "ax.set_ylim(34,75)\n",
    "ax.set_title(\"Tumor Response to Treatment\",fontsize = 12)\n",
    "ax.set_xlabel(\"Time(Days)\")\n",
    "ax.set_ylabel(\"Tumor Volume (mm3)\")\n",
    "plt.show()\n",
    "\n"
   ]
  },
  {
   "cell_type": "markdown",
   "metadata": {},
   "source": [
    "Observable Trend Concerning Average Tumor Volume:\n",
    "The mice that were given Ketapril, nfubinol ,and the Placebo had an increase in the average tumor volume over the 45 days ,but the mice that were given Capomuline had a decrease in the average tumor colume over tne 45 days. The resoult shows that there is not a significantly different result between Ketapril, nfubinol ,and the Placebo. however, the Capomulin decreases tumor volume."
   ]
  },
  {
   "cell_type": "code",
   "execution_count": null,
   "metadata": {},
   "outputs": [],
   "source": []
  },
  {
   "cell_type": "code",
   "execution_count": null,
   "metadata": {},
   "outputs": [],
   "source": [
    "met_sit = df.groupby([\"Drug\",\"Timepoint\",])[\"Metastatic Sites\"]\n",
    "means = met_sit.mean()\n",
    "means = means.reset_index()\n",
    "means.head()"
   ]
  },
  {
   "cell_type": "code",
   "execution_count": null,
   "metadata": {},
   "outputs": [],
   "source": [
    "met_standard = met_sit.sem()\n",
    "sems = pd.DataFrame(met_standard)\n",
    "sems.reset_index(inplace = True)\n",
    "sems.head()\n"
   ]
  },
  {
   "cell_type": "code",
   "execution_count": null,
   "metadata": {},
   "outputs": [],
   "source": [
    "pivot_avarage = means.pivot(index = \"Timepoint\",columns = \"Drug\",values = \"Metastatic Sites\")\n",
    "\n",
    "pivot_avarage.head()"
   ]
  },
  {
   "cell_type": "code",
   "execution_count": null,
   "metadata": {},
   "outputs": [],
   "source": [
    "met_response =pd.pivot_table(df,index=[\"Timepoint\"],values = \"Metastatic Sites\",\n",
    "    columns =[\"Drug\"], aggfunc = np.mean)\n",
    "cleaned_ms = met_response.drop([\n",
    "        \"Ceftamin\",\n",
    "        \"Naftisol\",\n",
    "        \"Propriva\",\n",
    "        \"Ramicane\",\n",
    "        \"Stelasyn\",\n",
    "        \"Zoniferol\"],                                                              \n",
    "    axis = 1)\n",
    "cleaned_ms"
   ]
  },
  {
   "cell_type": "code",
   "execution_count": null,
   "metadata": {},
   "outputs": [],
   "source": [
    "drugs = [\"Capomulin\",\"Infubinol\",\"Ketapril\",\"Placebo\"]\n",
    "colors =[\"red\",\"blue\",\"green\",\"black\"]\n",
    "markers =[\"o\",\"^\",\"s\",\"d\"]\n",
    "fig ,ax =plt.subplots()\n",
    "for drug in drugs:\n",
    "    x_data = cleaned_ms.index.values\n",
    "    y_data = cleaned_ms[drug]\n",
    "    err = sem(cleaned_ms[drug])\n",
    "    index = drugs.index(drug)\n",
    "    ax.errorbar(x_data, y_data,err,linestyle = \":\",\n",
    "                color = colors[index],\n",
    "                marker = markers[index],\n",
    "                capsize = 2.5,capthick = 1.5,\n",
    "                markeredgecolor = \"black\"\n",
    "           )\n",
    "\n",
    "ax.legend(loc = \"upper left\", labels = drugs, fancybox = True,fontsize = 13)\n",
    "plt.grid(linestyle = \"dotted\")\n",
    "ax.set_xlim(0,45)\n",
    "ax.set_ylim(0,4)\n",
    "ax.set_title(\"Metastatic Spred During Treatment\",fontsize = 15)\n",
    "ax.set_xlabel(\"Treatment Duration (Days)\")\n",
    "ax.set_ylabel(\"Met. Sites\")\n",
    "plt.show()"
   ]
  },
  {
   "cell_type": "markdown",
   "metadata": {},
   "source": [
    "Observable Trend Concerning the Average of Metastatic Sites: \n",
    "over the 45 days,the Placebo having the highest average metastatic sites at all times and also Ketapril had statistically no effect.However, by day 45 only Capomulin and Infubinol had statistically significant lower average metastatic sites than the placebo."
   ]
  },
  {
   "cell_type": "code",
   "execution_count": null,
   "metadata": {},
   "outputs": [],
   "source": [
    "survive_rate = pd.pivot_table(df,index = [\"Timepoint\"],values = \"Tumor Volume (mm3)\",\n",
    "    columns = [\"Drug\"], aggfunc = \"count\")\n",
    "cleaned_survive = survive_rate.drop([\n",
    "    \"Ceftamin\",\n",
    "    \"Naftisol\",\n",
    "    \"Propriva\",\n",
    "    \"Ramicane\",\n",
    "    \"Stelasyn\",\n",
    "    \"Zoniferol\"],\n",
    "    axis = 1)\n",
    "cleaned_survive"
   ]
  },
  {
   "cell_type": "code",
   "execution_count": null,
   "metadata": {},
   "outputs": [],
   "source": [
    "drugs = [\"Capomulin\",\"Infubinol\",\"Ketapril\",\"Placebo\"]\n",
    "colors = [\"red\",\"blue\",\"green\",\"black\"]\n",
    "markers = [\"o\",\"^\",\"s\",\"d\"]\n",
    "fig ,ax = plt.subplots()\n",
    "for drug in drugs:\n",
    "    x_data = cleaned_survive.index.values\n",
    "    y_data = cleaned_survive[drug]* 100 / cleaned_survive[drug][0]\n",
    "    index = drugs.index(drug)\n",
    "    ax.plot(x_data, y_data,linestyle = \"--\",\n",
    "                color = colors[index],\n",
    "                marker = markers[index],\n",
    "                markeredgecolor = \"black\" )\n",
    "\n",
    "ax.legend(loc = \"down left\", labels = drugs, fancybox = True, numpoints = 2,edgecolor = \"black\")\n",
    "plt.grid(linestyle = \"dotted\")\n",
    "ax.set_xlim(0,45)\n",
    "ax.set_ylim(0,102)\n",
    "ax.set_title(\"Survival During Treatment\",fontsize=15)\n",
    "ax.set_xlabel(\"Time (Days)\")\n",
    "ax.set_ylabel(\"Survival Rate(%)\")\n",
    "plt.show()"
   ]
  },
  {
   "cell_type": "markdown",
   "metadata": {},
   "source": [
    "Observable Trend Concerning the Survival Rate Over 45 days:\n",
    "Capomulin, has siginicantly higher survival rate during the 45 days. Ketapril and Infubinol had same survaival rate dropped with almost edual rate till day 30 but after that Infubinol had dropped."
   ]
  },
  {
   "cell_type": "code",
   "execution_count": null,
   "metadata": {},
   "outputs": [],
   "source": [
    "summary = round(((\n",
    "    cleaned_pivot_avrage_tumor.iloc[9,:]-cleaned_pivot_avrage_tumor.iloc[0,:])*100/\n",
    "    cleaned_pivot_avrage_tumor.iloc[0,:]),0).to_frame()\n",
    "summary = summary.rename(columns = {0:\"%Tumor Change\"})\n",
    "summary"
   ]
  },
  {
   "cell_type": "code",
   "execution_count": null,
   "metadata": {},
   "outputs": [],
   "source": [
    "percent_change = (pivot_avrage_tumor.iloc[-1]/(pivot_avrage_tumor.iloc[0])-1)*100\n",
    "percent_change"
   ]
  },
  {
   "cell_type": "code",
   "execution_count": null,
   "metadata": {},
   "outputs": [],
   "source": [
    "data_passing = percent_change < 0\n",
    "drugs = [\"Capomulin\",\"Infubinol\",\"Ketapril\",\"Placebo\"]\n",
    "change_list = ([ percent_change[drug]for drug in drugs])\n",
    "plt_change = plt.bar(drugs, change_list, width = -1, align=\"edge\",color= data_passing.map({ True:\"g\",False:\"r\"}))\n",
    "plt.grid()\n",
    "ax.set_ylim(-30,70)\n",
    "plt.ylabel(\"% Tumor Volume Change\")\n",
    "plt.title(\"Tumor Change Over 45 Day Treatment\")\n",
    "def autolabel(rects):\n",
    "    for rect in rects:\n",
    "        height = rect.get_height()\n",
    "        if height > 0:\n",
    "            label_position = 2 \n",
    "        else:\n",
    "             label_position = -8\n",
    "        plt.text(\n",
    "            rect.get_x() + rect.get_width()/2.,\n",
    "            label_position ,\n",
    "            \"%d\" % int(height)+ \"%\",\n",
    "            color= \"yellow\",\n",
    "            ha = \"center\", va = \"bottom\")\n",
    "autolabel (plt_change)"
   ]
  },
  {
   "cell_type": "markdown",
   "metadata": {},
   "source": [
    "Observable Trend Concerning of the Tomur Volume change:\n",
    "Az we can see in the last graph, and acording to the trends and Tomur Volume change percentage, we could tell that Capomulin had the best result between compared drugs."
   ]
  },
  {
   "cell_type": "code",
   "execution_count": null,
   "metadata": {},
   "outputs": [],
   "source": []
  },
  {
   "cell_type": "code",
   "execution_count": null,
   "metadata": {},
   "outputs": [],
   "source": []
  },
  {
   "cell_type": "code",
   "execution_count": null,
   "metadata": {},
   "outputs": [],
   "source": []
  },
  {
   "cell_type": "code",
   "execution_count": null,
   "metadata": {},
   "outputs": [],
   "source": []
  }
 ],
 "metadata": {
  "kernelspec": {
   "display_name": "matplotlib-challenge",
   "language": "python",
   "name": "matplotlib-challege"
  },
  "language_info": {
   "codemirror_mode": {
    "name": "ipython",
    "version": 3
   },
   "file_extension": ".py",
   "mimetype": "text/x-python",
   "name": "python",
   "nbconvert_exporter": "python",
   "pygments_lexer": "ipython3",
   "version": "3.7.5"
  }
 },
 "nbformat": 4,
 "nbformat_minor": 4
}
